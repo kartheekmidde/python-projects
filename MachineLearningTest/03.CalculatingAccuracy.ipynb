{
 "cells": [
  {
   "cell_type": "code",
   "execution_count": 14,
   "id": "d8290650",
   "metadata": {},
   "outputs": [
    {
     "data": {
      "text/plain": [
       "0.5"
      ]
     },
     "execution_count": 14,
     "metadata": {},
     "output_type": "execute_result"
    }
   ],
   "source": [
    "import pandas as pd\n",
    "from sklearn.tree import DecisionTreeClassifier\n",
    "\n",
    "# import to split the data into training and testing data\n",
    "from sklearn.model_selection import train_test_split\n",
    "\n",
    "# import to calculate accuracy\n",
    "from sklearn.metrics import accuracy_score\n",
    "\n",
    "music_data = pd.read_csv(\"music.csv\")\n",
    "\n",
    "# input data set\n",
    "X = music_data.drop(columns=['genre'])\n",
    "\n",
    "# output data set\n",
    "y = music_data['genre']\n",
    "\n",
    "# splitting the test data at 20%\n",
    "# it returns a tuple and so unpack it\n",
    "X_train, X_test, y_train, y_test = train_test_split(X, y, test_size=0.2)\n",
    "\n",
    "# creating a model\n",
    "model = DecisionTreeClassifier()\n",
    "\n",
    "# giving the model input and output training data\n",
    "model.fit(X_train, y_train)\n",
    "\n",
    "# asking the model to predict for test data\n",
    "predictions = model.predict(X_test)\n",
    "\n",
    "# test the accuracy\n",
    "score = accuracy_score(y_test, predictions)\n",
    "score"
   ]
  },
  {
   "cell_type": "code",
   "execution_count": null,
   "id": "c84efdae",
   "metadata": {},
   "outputs": [],
   "source": []
  }
 ],
 "metadata": {
  "kernelspec": {
   "display_name": "Python 3 (ipykernel)",
   "language": "python",
   "name": "python3"
  },
  "language_info": {
   "codemirror_mode": {
    "name": "ipython",
    "version": 3
   },
   "file_extension": ".py",
   "mimetype": "text/x-python",
   "name": "python",
   "nbconvert_exporter": "python",
   "pygments_lexer": "ipython3",
   "version": "3.11.7"
  }
 },
 "nbformat": 4,
 "nbformat_minor": 5
}
