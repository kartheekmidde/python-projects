{
 "cells": [
  {
   "cell_type": "code",
   "execution_count": 1,
   "id": "d8290650",
   "metadata": {},
   "outputs": [],
   "source": [
    "import pandas as pd\n",
    "from sklearn.tree import DecisionTreeClassifier\n",
    "\n",
    "from sklearn import tree\n",
    "\n",
    "music_data = pd.read_csv(\"music.csv\")\n",
    "\n",
    "# input data set\n",
    "X = music_data.drop(columns=['genre'])\n",
    "\n",
    "# output data set\n",
    "y = music_data['genre']\n",
    "\n",
    "# creating a model\n",
    "model = DecisionTreeClassifier()\n",
    "\n",
    "# giving the model input and output data\n",
    "model.fit(X, y)\n",
    "\n",
    "# export decision tree in a graphical format\n",
    "# feature_names are the featues of the data set\n",
    "# class_names is labels in output data set\n",
    "tree.export_graphviz(model, out_file='music-recommender.dot', \n",
    "                     feature_names=['age', 'gender'],\n",
    "                     class_names=sorted(y.unique()),\n",
    "                     label='all',\n",
    "                     rounded=True,\n",
    "                     filled=True\n",
    "                    )"
   ]
  },
  {
   "cell_type": "code",
   "execution_count": null,
   "id": "31bdf504",
   "metadata": {},
   "outputs": [],
   "source": []
  }
 ],
 "metadata": {
  "kernelspec": {
   "display_name": "Python 3 (ipykernel)",
   "language": "python",
   "name": "python3"
  },
  "language_info": {
   "codemirror_mode": {
    "name": "ipython",
    "version": 3
   },
   "file_extension": ".py",
   "mimetype": "text/x-python",
   "name": "python",
   "nbconvert_exporter": "python",
   "pygments_lexer": "ipython3",
   "version": "3.11.7"
  }
 },
 "nbformat": 4,
 "nbformat_minor": 5
}
