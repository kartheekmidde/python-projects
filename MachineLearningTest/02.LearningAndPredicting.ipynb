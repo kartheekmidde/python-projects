{
 "cells": [
  {
   "cell_type": "code",
   "execution_count": 11,
   "id": "d8290650",
   "metadata": {},
   "outputs": [
    {
     "name": "stderr",
     "output_type": "stream",
     "text": [
      "/opt/anaconda3/lib/python3.11/site-packages/sklearn/base.py:439: UserWarning: X does not have valid feature names, but DecisionTreeClassifier was fitted with feature names\n",
      "  warnings.warn(\n"
     ]
    },
    {
     "data": {
      "text/plain": [
       "array(['HipHop', 'Dance'], dtype=object)"
      ]
     },
     "execution_count": 11,
     "metadata": {},
     "output_type": "execute_result"
    }
   ],
   "source": [
    "import pandas as pd\n",
    "from sklearn.tree import DecisionTreeClassifier\n",
    "\n",
    "music_data = pd.read_csv(\"music.csv\")\n",
    "\n",
    "# input data set\n",
    "X = music_data.drop(columns=['genre'])\n",
    "\n",
    "# output data set\n",
    "y = music_data['genre']\n",
    "\n",
    "# creating a model\n",
    "model = DecisionTreeClassifier()\n",
    "\n",
    "# giving the model input and output data\n",
    "model.fit(X, y)\n",
    "\n",
    "# asking the model to predict for 21 M and 22 F\n",
    "predictions = model.predict([ [21, 1], [22, 0] ])\n",
    "\n",
    "# inspect the predictions\n",
    "predictions\n",
    "\n",
    "# this may not be enough to calculate the accuracy of the model as the entire data set is used "
   ]
  },
  {
   "cell_type": "code",
   "execution_count": null,
   "id": "31bdf504",
   "metadata": {},
   "outputs": [],
   "source": []
  }
 ],
 "metadata": {
  "kernelspec": {
   "display_name": "Python 3 (ipykernel)",
   "language": "python",
   "name": "python3"
  },
  "language_info": {
   "codemirror_mode": {
    "name": "ipython",
    "version": 3
   },
   "file_extension": ".py",
   "mimetype": "text/x-python",
   "name": "python",
   "nbconvert_exporter": "python",
   "pygments_lexer": "ipython3",
   "version": "3.11.7"
  }
 },
 "nbformat": 4,
 "nbformat_minor": 5
}
